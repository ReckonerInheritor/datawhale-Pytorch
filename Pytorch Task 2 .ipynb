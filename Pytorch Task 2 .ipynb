{
 "cells": [
  {
   "cell_type": "markdown",
   "metadata": {},
   "source": [
    "### 1 numpy和pytorch实现梯度下降法"
   ]
  },
  {
   "cell_type": "code",
   "execution_count": 1,
   "metadata": {},
   "outputs": [
    {
     "name": "stdout",
     "output_type": "stream",
     "text": [
      "iter_count:  0 the loss: 238.1385315538224\n",
      "iter_count:  1 the loss: 112.41457097082805\n",
      "iter_count:  2 the loss: 36.892229492246095\n",
      "iter_count:  3 the loss: 19.07143716706338\n",
      "iter_count:  4 the loss: 5.744732833930403\n",
      "iter_count:  5 the loss: 3.390809875579115\n",
      "iter_count:  6 the loss: 0.923980092211449\n",
      "iter_count:  7 the loss: 0.6502534538960436\n",
      "iter_count:  8 the loss: 0.16393935963282183\n",
      "iter_count:  9 the loss: 0.13916064409295986\n",
      "iter_count:  10 the loss: 0.035528973666947045\n",
      "iter_count:  11 the loss: 0.034058758504732584\n",
      "iter_count:  12 the loss: 0.009922199521793358\n",
      "iter_count:  13 the loss: 0.009519171980690053\n",
      "iter_count:  14 the loss: 0.0033507832645485905\n",
      "iter_count:  15 the loss: 0.00295931414123372\n",
      "iter_count:  16 the loss: 0.0012375368143903178\n",
      "iter_count:  17 the loss: 0.00098937887113691\n",
      "[2.9675493 4.0159636]\n"
     ]
    }
   ],
   "source": [
    "import numpy as np\n",
    "\n",
    "def gen_line_data(sample_num=100):\n",
    "    \"\"\"\n",
    "    y = 3*x1 + 4*x2\n",
    "    :return:\n",
    "    \"\"\"\n",
    "    x1 = np.linspace(0, 9, sample_num)\n",
    "    x2 = np.linspace(4, 13, sample_num)\n",
    "    x = np.concatenate(([x1], [x2]), axis=0).T\n",
    "    y = np.dot(x, np.array([3, 4]).T)  # y 列向量\n",
    "    return x, y\n",
    "\n",
    "def sgd(samples, y, step_size=0.01, max_iter_count=10000):\n",
    "    \"\"\"\n",
    "    随机梯度下降法\n",
    "    :param samples: 样本\n",
    "    :param y: 结果value\n",
    "    :param step_size: 每一接迭代的步长\n",
    "    :param max_iter_count: 最大的迭代次数\n",
    "    :param batch_size: 随机选取的相对于总样本的大小\n",
    "    :return:\n",
    "    \"\"\"\n",
    "    sample_num, dim = samples.shape\n",
    "    y = y.flatten()\n",
    "    w = np.ones((dim,), dtype=np.float32)\n",
    "    loss = 10\n",
    "    iter_count = 0\n",
    "    while loss > 0.001 and iter_count < max_iter_count:\n",
    "        loss = 0\n",
    "        error = np.zeros((dim,), dtype=np.float32)\n",
    "        for i in range(sample_num):\n",
    "            predict_y = np.dot(w.T, samples[i])\n",
    "            for j in range(dim):\n",
    "                error[j] += (y[i] - predict_y) * samples[i][j]\n",
    "                w[j] += step_size * error[j] / sample_num\n",
    "\n",
    "        # for j in range(dim):\n",
    "        #     w[j] += step_size * error[j] / sample_num\n",
    "\n",
    "        for i in range(sample_num):\n",
    "            predict_y = np.dot(w.T, samples[i])\n",
    "            error = (1 / (sample_num * dim)) * np.power((predict_y - y[i]), 2)\n",
    "            loss += error\n",
    "\n",
    "        print(\"iter_count: \", iter_count, \"the loss:\", loss)\n",
    "        iter_count += 1\n",
    "    return w\n",
    "\n",
    "if __name__ == '__main__':\n",
    "    samples, y = gen_line_data()\n",
    "    w = sgd(samples, y)\n",
    "    print(w)  # 会很接近[3, 4]"
   ]
  },
  {
   "cell_type": "code",
   "execution_count": 2,
   "metadata": {},
   "outputs": [
    {
     "name": "stdout",
     "output_type": "stream",
     "text": [
      "loss: tensor(9.4744e-11, grad_fn=<MeanBackward0>)\n",
      "w_GD: tensor([ 2.0000, -4.0000], requires_grad=True)\n"
     ]
    }
   ],
   "source": [
    "import torch \n",
    "from torch.autograd import Variable\n",
    "import numpy as np\n",
    "N = 100\n",
    "x = Variable(torch.randn(N,2))\n",
    "w = Variable(torch.FloatTensor([2, -4]))\n",
    "y = x*w\n",
    "\n",
    "EPOCHS = 5000\n",
    "\n",
    "lr = 0.01\n",
    "w_GD = Variable(torch.FloatTensor([0, 0]), requires_grad=True)\n",
    "cost = []\n",
    "w_all = []\n",
    "for i in range(EPOCHS):\n",
    "    w_all.append(w_GD.data)\n",
    "    y_predict = x*w_GD\n",
    "    loss = torch.mean((y_predict-y)**2)\n",
    "\n",
    "    cost.append(loss.data.numpy())\n",
    "    loss.backward()\n",
    "     #参数更新\n",
    "    w_GD.data -= lr*w_GD.grad.data\n",
    "    w_GD.grad.data.zero_()    \n",
    "print(\"loss:\",loss)\n",
    "print(\"w_GD:\",w_GD)"
   ]
  },
  {
   "cell_type": "code",
   "execution_count": null,
   "metadata": {},
   "outputs": [],
   "source": []
  }
 ],
 "metadata": {
  "kernelspec": {
   "display_name": "Python 3",
   "language": "python",
   "name": "python3"
  },
  "language_info": {
   "codemirror_mode": {
    "name": "ipython",
    "version": 3
   },
   "file_extension": ".py",
   "mimetype": "text/x-python",
   "name": "python",
   "nbconvert_exporter": "python",
   "pygments_lexer": "ipython3",
   "version": "3.6.5"
  }
 },
 "nbformat": 4,
 "nbformat_minor": 2
}
